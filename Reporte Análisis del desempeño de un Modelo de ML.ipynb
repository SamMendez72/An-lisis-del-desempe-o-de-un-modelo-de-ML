{
 "cells": [
  {
   "cell_type": "markdown",
   "id": "884c89c5",
   "metadata": {},
   "source": [
    "# Análisis y reporte sobre el desempeño de un modelo de Machine Learning\n",
    "\n",
    "##### Samuel Méndez Villegas - A01652277\n",
    "\n",
    "En este reporte se realiza un análisis sobre el desempeño de un modelo de aprendizaje supervisado sobre una base de datos de individuos con diabetes. El modelo que se evaluará se trata de un 'Random Forest Classifier' y con este se busca predecir si una persona padece de diabetes o no tomando en cuenta diferentes factores. \n",
    "\n",
    "Para la evaluación del modelo se tomaran en cuenta algunas métricas de evaluación como lo es el 'accuracy', el 'Mean Squared Error', el 'Mean Absolute Error' y la matriz de confusión para de igual forma evaluar la cantidad de falsos positivos y falsos negativos que se tienen. De igual forma se analizará el nivel de sesgo del modelo, así como su grado de varianza."
   ]
  },
  {
   "cell_type": "code",
   "execution_count": 1,
   "id": "aa52fd24",
   "metadata": {},
   "outputs": [],
   "source": [
    "## Librerías a utilizar\n",
    "import pandas as pd\n",
    "import numpy as np\n",
    "import matplotlib.pyplot as plt\n",
    "import seaborn as sns\n",
    "\n",
    "## Librerías para implementar el modelo\n",
    "from sklearn.model_selection import train_test_split # Separar el set de datos en entrenamiento y prueba\n",
    "from sklearn.ensemble import RandomForestClassifier # Clasificador a utilizar\n",
    "from sklearn.metrics import mean_squared_error, mean_absolute_error, r2_score, confusion_matrix, accuracy_score # Medidas de evaluación"
   ]
  },
  {
   "cell_type": "markdown",
   "id": "0b17e3ba",
   "metadata": {},
   "source": [
    "### Exploración de la base de datos\n",
    "Comenzaremos cargando la base de datos y realizando un análsis exploratorio de los datos. Este paso es importante de realizar antes de implementar cualquier modelo de machine learning debido a que si la calidad de los datos que se utilizan no es buena, el modelo generado no será bueno. Esto hace mucha alusión a la frase \"Trash in, trash out\", que hace énfasis en la calidad y tratamiento de los datos.\n",
    "\n",
    "En las siguientes celdas se muestra un poco de toda la limpieza generada. "
   ]
  },
  {
   "cell_type": "code",
   "execution_count": 2,
   "id": "6561e707",
   "metadata": {},
   "outputs": [
    {
     "data": {
      "text/html": [
       "<div>\n",
       "<style scoped>\n",
       "    .dataframe tbody tr th:only-of-type {\n",
       "        vertical-align: middle;\n",
       "    }\n",
       "\n",
       "    .dataframe tbody tr th {\n",
       "        vertical-align: top;\n",
       "    }\n",
       "\n",
       "    .dataframe thead th {\n",
       "        text-align: right;\n",
       "    }\n",
       "</style>\n",
       "<table border=\"1\" class=\"dataframe\">\n",
       "  <thead>\n",
       "    <tr style=\"text-align: right;\">\n",
       "      <th></th>\n",
       "      <th>Pregnancies</th>\n",
       "      <th>Glucose</th>\n",
       "      <th>BloodPressure</th>\n",
       "      <th>SkinThickness</th>\n",
       "      <th>Insulin</th>\n",
       "      <th>BMI</th>\n",
       "      <th>DiabetesPedigreeFunction</th>\n",
       "      <th>Age</th>\n",
       "      <th>Outcome</th>\n",
       "    </tr>\n",
       "  </thead>\n",
       "  <tbody>\n",
       "    <tr>\n",
       "      <th>0</th>\n",
       "      <td>6</td>\n",
       "      <td>148</td>\n",
       "      <td>72</td>\n",
       "      <td>35</td>\n",
       "      <td>0</td>\n",
       "      <td>33.6</td>\n",
       "      <td>0.627</td>\n",
       "      <td>50</td>\n",
       "      <td>1</td>\n",
       "    </tr>\n",
       "    <tr>\n",
       "      <th>1</th>\n",
       "      <td>1</td>\n",
       "      <td>85</td>\n",
       "      <td>66</td>\n",
       "      <td>29</td>\n",
       "      <td>0</td>\n",
       "      <td>26.6</td>\n",
       "      <td>0.351</td>\n",
       "      <td>31</td>\n",
       "      <td>0</td>\n",
       "    </tr>\n",
       "    <tr>\n",
       "      <th>2</th>\n",
       "      <td>8</td>\n",
       "      <td>183</td>\n",
       "      <td>64</td>\n",
       "      <td>0</td>\n",
       "      <td>0</td>\n",
       "      <td>23.3</td>\n",
       "      <td>0.672</td>\n",
       "      <td>32</td>\n",
       "      <td>1</td>\n",
       "    </tr>\n",
       "    <tr>\n",
       "      <th>3</th>\n",
       "      <td>1</td>\n",
       "      <td>89</td>\n",
       "      <td>66</td>\n",
       "      <td>23</td>\n",
       "      <td>94</td>\n",
       "      <td>28.1</td>\n",
       "      <td>0.167</td>\n",
       "      <td>21</td>\n",
       "      <td>0</td>\n",
       "    </tr>\n",
       "    <tr>\n",
       "      <th>4</th>\n",
       "      <td>0</td>\n",
       "      <td>137</td>\n",
       "      <td>40</td>\n",
       "      <td>35</td>\n",
       "      <td>168</td>\n",
       "      <td>43.1</td>\n",
       "      <td>2.288</td>\n",
       "      <td>33</td>\n",
       "      <td>1</td>\n",
       "    </tr>\n",
       "  </tbody>\n",
       "</table>\n",
       "</div>"
      ],
      "text/plain": [
       "   Pregnancies  Glucose  BloodPressure  SkinThickness  Insulin   BMI  \\\n",
       "0            6      148             72             35        0  33.6   \n",
       "1            1       85             66             29        0  26.6   \n",
       "2            8      183             64              0        0  23.3   \n",
       "3            1       89             66             23       94  28.1   \n",
       "4            0      137             40             35      168  43.1   \n",
       "\n",
       "   DiabetesPedigreeFunction  Age  Outcome  \n",
       "0                     0.627   50        1  \n",
       "1                     0.351   31        0  \n",
       "2                     0.672   32        1  \n",
       "3                     0.167   21        0  \n",
       "4                     2.288   33        1  "
      ]
     },
     "execution_count": 2,
     "metadata": {},
     "output_type": "execute_result"
    }
   ],
   "source": [
    "## Carga de los datos a utilizar\n",
    "df = pd.read_csv('diabetes.csv')\n",
    "df.head()"
   ]
  },
  {
   "cell_type": "code",
   "execution_count": 3,
   "id": "8350d87e",
   "metadata": {},
   "outputs": [
    {
     "data": {
      "text/plain": [
       "(768, 9)"
      ]
     },
     "execution_count": 3,
     "metadata": {},
     "output_type": "execute_result"
    }
   ],
   "source": [
    "## Dimensiones del data frame\n",
    "df.shape"
   ]
  },
  {
   "cell_type": "code",
   "execution_count": 4,
   "id": "e9921bd8",
   "metadata": {},
   "outputs": [
    {
     "name": "stdout",
     "output_type": "stream",
     "text": [
      "<class 'pandas.core.frame.DataFrame'>\n",
      "RangeIndex: 768 entries, 0 to 767\n",
      "Data columns (total 9 columns):\n",
      " #   Column                    Non-Null Count  Dtype  \n",
      "---  ------                    --------------  -----  \n",
      " 0   Pregnancies               768 non-null    int64  \n",
      " 1   Glucose                   768 non-null    int64  \n",
      " 2   BloodPressure             768 non-null    int64  \n",
      " 3   SkinThickness             768 non-null    int64  \n",
      " 4   Insulin                   768 non-null    int64  \n",
      " 5   BMI                       768 non-null    float64\n",
      " 6   DiabetesPedigreeFunction  768 non-null    float64\n",
      " 7   Age                       768 non-null    int64  \n",
      " 8   Outcome                   768 non-null    int64  \n",
      "dtypes: float64(2), int64(7)\n",
      "memory usage: 54.1 KB\n"
     ]
    }
   ],
   "source": [
    "## Información de las variables dentro de la base de datos\n",
    "df.info()"
   ]
  },
  {
   "cell_type": "markdown",
   "id": "e14e39d7",
   "metadata": {},
   "source": [
    "En el resumen anterior se puede observar que no se tienen valores nulos en ninguna de las columnas de la base de datos, y que no hay variables cualitativas, es decir únicamente se cuentan con variables cuantitativas. Sin embargo, seguiremos indagando un poco dentro de la base de datos."
   ]
  },
  {
   "cell_type": "code",
   "execution_count": 5,
   "id": "21a9f715",
   "metadata": {},
   "outputs": [
    {
     "data": {
      "text/plain": [
       "0"
      ]
     },
     "execution_count": 5,
     "metadata": {},
     "output_type": "execute_result"
    }
   ],
   "source": [
    "## Evaluación de datos duplicados\n",
    "df.duplicated().sum()"
   ]
  },
  {
   "cell_type": "code",
   "execution_count": 6,
   "id": "a4009634",
   "metadata": {},
   "outputs": [
    {
     "data": {
      "text/plain": [
       "Pregnancies                 0\n",
       "Glucose                     0\n",
       "BloodPressure               0\n",
       "SkinThickness               0\n",
       "Insulin                     0\n",
       "BMI                         0\n",
       "DiabetesPedigreeFunction    0\n",
       "Age                         0\n",
       "Outcome                     0\n",
       "dtype: int64"
      ]
     },
     "execution_count": 6,
     "metadata": {},
     "output_type": "execute_result"
    }
   ],
   "source": [
    "## Evaluación de datos nulos\n",
    "df.isnull().sum()"
   ]
  },
  {
   "cell_type": "markdown",
   "id": "3c39455c",
   "metadata": {},
   "source": [
    "Se observa que no hay registros duplicados, y tampoco se cuentan con valores nulos en la base de datos, lo cual es relativamente bueno, pues en pocas palabras se tiene más información con la que entrenar al modelo. \n",
    "\n",
    "Ahora, se pasará a realizar un pequeño análisis descriptivo de las variables numéricas que se encuentran dentro del set de datos. "
   ]
  },
  {
   "cell_type": "code",
   "execution_count": 7,
   "id": "b120b7b9",
   "metadata": {},
   "outputs": [
    {
     "data": {
      "text/html": [
       "<div>\n",
       "<style scoped>\n",
       "    .dataframe tbody tr th:only-of-type {\n",
       "        vertical-align: middle;\n",
       "    }\n",
       "\n",
       "    .dataframe tbody tr th {\n",
       "        vertical-align: top;\n",
       "    }\n",
       "\n",
       "    .dataframe thead th {\n",
       "        text-align: right;\n",
       "    }\n",
       "</style>\n",
       "<table border=\"1\" class=\"dataframe\">\n",
       "  <thead>\n",
       "    <tr style=\"text-align: right;\">\n",
       "      <th></th>\n",
       "      <th>Pregnancies</th>\n",
       "      <th>Glucose</th>\n",
       "      <th>BloodPressure</th>\n",
       "      <th>SkinThickness</th>\n",
       "      <th>Insulin</th>\n",
       "      <th>BMI</th>\n",
       "      <th>DiabetesPedigreeFunction</th>\n",
       "      <th>Age</th>\n",
       "      <th>Outcome</th>\n",
       "    </tr>\n",
       "  </thead>\n",
       "  <tbody>\n",
       "    <tr>\n",
       "      <th>count</th>\n",
       "      <td>768.000000</td>\n",
       "      <td>768.000000</td>\n",
       "      <td>768.000000</td>\n",
       "      <td>768.000000</td>\n",
       "      <td>768.000000</td>\n",
       "      <td>768.000000</td>\n",
       "      <td>768.000000</td>\n",
       "      <td>768.000000</td>\n",
       "      <td>768.000000</td>\n",
       "    </tr>\n",
       "    <tr>\n",
       "      <th>mean</th>\n",
       "      <td>3.845052</td>\n",
       "      <td>120.894531</td>\n",
       "      <td>69.105469</td>\n",
       "      <td>20.536458</td>\n",
       "      <td>79.799479</td>\n",
       "      <td>31.992578</td>\n",
       "      <td>0.471876</td>\n",
       "      <td>33.240885</td>\n",
       "      <td>0.348958</td>\n",
       "    </tr>\n",
       "    <tr>\n",
       "      <th>std</th>\n",
       "      <td>3.369578</td>\n",
       "      <td>31.972618</td>\n",
       "      <td>19.355807</td>\n",
       "      <td>15.952218</td>\n",
       "      <td>115.244002</td>\n",
       "      <td>7.884160</td>\n",
       "      <td>0.331329</td>\n",
       "      <td>11.760232</td>\n",
       "      <td>0.476951</td>\n",
       "    </tr>\n",
       "    <tr>\n",
       "      <th>min</th>\n",
       "      <td>0.000000</td>\n",
       "      <td>0.000000</td>\n",
       "      <td>0.000000</td>\n",
       "      <td>0.000000</td>\n",
       "      <td>0.000000</td>\n",
       "      <td>0.000000</td>\n",
       "      <td>0.078000</td>\n",
       "      <td>21.000000</td>\n",
       "      <td>0.000000</td>\n",
       "    </tr>\n",
       "    <tr>\n",
       "      <th>25%</th>\n",
       "      <td>1.000000</td>\n",
       "      <td>99.000000</td>\n",
       "      <td>62.000000</td>\n",
       "      <td>0.000000</td>\n",
       "      <td>0.000000</td>\n",
       "      <td>27.300000</td>\n",
       "      <td>0.243750</td>\n",
       "      <td>24.000000</td>\n",
       "      <td>0.000000</td>\n",
       "    </tr>\n",
       "    <tr>\n",
       "      <th>50%</th>\n",
       "      <td>3.000000</td>\n",
       "      <td>117.000000</td>\n",
       "      <td>72.000000</td>\n",
       "      <td>23.000000</td>\n",
       "      <td>30.500000</td>\n",
       "      <td>32.000000</td>\n",
       "      <td>0.372500</td>\n",
       "      <td>29.000000</td>\n",
       "      <td>0.000000</td>\n",
       "    </tr>\n",
       "    <tr>\n",
       "      <th>75%</th>\n",
       "      <td>6.000000</td>\n",
       "      <td>140.250000</td>\n",
       "      <td>80.000000</td>\n",
       "      <td>32.000000</td>\n",
       "      <td>127.250000</td>\n",
       "      <td>36.600000</td>\n",
       "      <td>0.626250</td>\n",
       "      <td>41.000000</td>\n",
       "      <td>1.000000</td>\n",
       "    </tr>\n",
       "    <tr>\n",
       "      <th>max</th>\n",
       "      <td>17.000000</td>\n",
       "      <td>199.000000</td>\n",
       "      <td>122.000000</td>\n",
       "      <td>99.000000</td>\n",
       "      <td>846.000000</td>\n",
       "      <td>67.100000</td>\n",
       "      <td>2.420000</td>\n",
       "      <td>81.000000</td>\n",
       "      <td>1.000000</td>\n",
       "    </tr>\n",
       "  </tbody>\n",
       "</table>\n",
       "</div>"
      ],
      "text/plain": [
       "       Pregnancies     Glucose  BloodPressure  SkinThickness     Insulin  \\\n",
       "count   768.000000  768.000000     768.000000     768.000000  768.000000   \n",
       "mean      3.845052  120.894531      69.105469      20.536458   79.799479   \n",
       "std       3.369578   31.972618      19.355807      15.952218  115.244002   \n",
       "min       0.000000    0.000000       0.000000       0.000000    0.000000   \n",
       "25%       1.000000   99.000000      62.000000       0.000000    0.000000   \n",
       "50%       3.000000  117.000000      72.000000      23.000000   30.500000   \n",
       "75%       6.000000  140.250000      80.000000      32.000000  127.250000   \n",
       "max      17.000000  199.000000     122.000000      99.000000  846.000000   \n",
       "\n",
       "              BMI  DiabetesPedigreeFunction         Age     Outcome  \n",
       "count  768.000000                768.000000  768.000000  768.000000  \n",
       "mean    31.992578                  0.471876   33.240885    0.348958  \n",
       "std      7.884160                  0.331329   11.760232    0.476951  \n",
       "min      0.000000                  0.078000   21.000000    0.000000  \n",
       "25%     27.300000                  0.243750   24.000000    0.000000  \n",
       "50%     32.000000                  0.372500   29.000000    0.000000  \n",
       "75%     36.600000                  0.626250   41.000000    1.000000  \n",
       "max     67.100000                  2.420000   81.000000    1.000000  "
      ]
     },
     "execution_count": 7,
     "metadata": {},
     "output_type": "execute_result"
    }
   ],
   "source": [
    "## Análisis descriptivo de las variables numéricas\n",
    "df.describe()"
   ]
  },
  {
   "cell_type": "markdown",
   "id": "8c8410da",
   "metadata": {},
   "source": [
    "En este breve resumen podemos ver algunas cosas interesantes. Por ejemplo, si observamos el valor mínimo algunas variables como 'Glucose', 'Blood Presure', 'Skin Thickness', entre otras, se tiene un valor de 0. Esto es muy dudoso, ya que según la descripción de las variables, es imposible tener estos valores. Pongamos como ejemplo la presión sanguínea o el índice de masa corporal (BMI), pues es prácticamente imposible que una persona tenga valores de 0 en estos atributos. Por lo tanto, vamos a identificar estos registros y ver la información que contienen."
   ]
  },
  {
   "cell_type": "code",
   "execution_count": 8,
   "id": "8fe50320",
   "metadata": {},
   "outputs": [
    {
     "data": {
      "text/html": [
       "<div>\n",
       "<style scoped>\n",
       "    .dataframe tbody tr th:only-of-type {\n",
       "        vertical-align: middle;\n",
       "    }\n",
       "\n",
       "    .dataframe tbody tr th {\n",
       "        vertical-align: top;\n",
       "    }\n",
       "\n",
       "    .dataframe thead th {\n",
       "        text-align: right;\n",
       "    }\n",
       "</style>\n",
       "<table border=\"1\" class=\"dataframe\">\n",
       "  <thead>\n",
       "    <tr style=\"text-align: right;\">\n",
       "      <th></th>\n",
       "      <th>Pregnancies</th>\n",
       "      <th>Glucose</th>\n",
       "      <th>BloodPressure</th>\n",
       "      <th>SkinThickness</th>\n",
       "      <th>Insulin</th>\n",
       "      <th>BMI</th>\n",
       "      <th>DiabetesPedigreeFunction</th>\n",
       "      <th>Age</th>\n",
       "      <th>Outcome</th>\n",
       "    </tr>\n",
       "  </thead>\n",
       "  <tbody>\n",
       "    <tr>\n",
       "      <th>0</th>\n",
       "      <td>6</td>\n",
       "      <td>148</td>\n",
       "      <td>72</td>\n",
       "      <td>35</td>\n",
       "      <td>0</td>\n",
       "      <td>33.6</td>\n",
       "      <td>0.627</td>\n",
       "      <td>50</td>\n",
       "      <td>1</td>\n",
       "    </tr>\n",
       "    <tr>\n",
       "      <th>1</th>\n",
       "      <td>1</td>\n",
       "      <td>85</td>\n",
       "      <td>66</td>\n",
       "      <td>29</td>\n",
       "      <td>0</td>\n",
       "      <td>26.6</td>\n",
       "      <td>0.351</td>\n",
       "      <td>31</td>\n",
       "      <td>0</td>\n",
       "    </tr>\n",
       "    <tr>\n",
       "      <th>2</th>\n",
       "      <td>8</td>\n",
       "      <td>183</td>\n",
       "      <td>64</td>\n",
       "      <td>0</td>\n",
       "      <td>0</td>\n",
       "      <td>23.3</td>\n",
       "      <td>0.672</td>\n",
       "      <td>32</td>\n",
       "      <td>1</td>\n",
       "    </tr>\n",
       "    <tr>\n",
       "      <th>5</th>\n",
       "      <td>5</td>\n",
       "      <td>116</td>\n",
       "      <td>74</td>\n",
       "      <td>0</td>\n",
       "      <td>0</td>\n",
       "      <td>25.6</td>\n",
       "      <td>0.201</td>\n",
       "      <td>30</td>\n",
       "      <td>0</td>\n",
       "    </tr>\n",
       "    <tr>\n",
       "      <th>7</th>\n",
       "      <td>10</td>\n",
       "      <td>115</td>\n",
       "      <td>0</td>\n",
       "      <td>0</td>\n",
       "      <td>0</td>\n",
       "      <td>35.3</td>\n",
       "      <td>0.134</td>\n",
       "      <td>29</td>\n",
       "      <td>0</td>\n",
       "    </tr>\n",
       "    <tr>\n",
       "      <th>...</th>\n",
       "      <td>...</td>\n",
       "      <td>...</td>\n",
       "      <td>...</td>\n",
       "      <td>...</td>\n",
       "      <td>...</td>\n",
       "      <td>...</td>\n",
       "      <td>...</td>\n",
       "      <td>...</td>\n",
       "      <td>...</td>\n",
       "    </tr>\n",
       "    <tr>\n",
       "      <th>761</th>\n",
       "      <td>9</td>\n",
       "      <td>170</td>\n",
       "      <td>74</td>\n",
       "      <td>31</td>\n",
       "      <td>0</td>\n",
       "      <td>44.0</td>\n",
       "      <td>0.403</td>\n",
       "      <td>43</td>\n",
       "      <td>1</td>\n",
       "    </tr>\n",
       "    <tr>\n",
       "      <th>762</th>\n",
       "      <td>9</td>\n",
       "      <td>89</td>\n",
       "      <td>62</td>\n",
       "      <td>0</td>\n",
       "      <td>0</td>\n",
       "      <td>22.5</td>\n",
       "      <td>0.142</td>\n",
       "      <td>33</td>\n",
       "      <td>0</td>\n",
       "    </tr>\n",
       "    <tr>\n",
       "      <th>764</th>\n",
       "      <td>2</td>\n",
       "      <td>122</td>\n",
       "      <td>70</td>\n",
       "      <td>27</td>\n",
       "      <td>0</td>\n",
       "      <td>36.8</td>\n",
       "      <td>0.340</td>\n",
       "      <td>27</td>\n",
       "      <td>0</td>\n",
       "    </tr>\n",
       "    <tr>\n",
       "      <th>766</th>\n",
       "      <td>1</td>\n",
       "      <td>126</td>\n",
       "      <td>60</td>\n",
       "      <td>0</td>\n",
       "      <td>0</td>\n",
       "      <td>30.1</td>\n",
       "      <td>0.349</td>\n",
       "      <td>47</td>\n",
       "      <td>1</td>\n",
       "    </tr>\n",
       "    <tr>\n",
       "      <th>767</th>\n",
       "      <td>1</td>\n",
       "      <td>93</td>\n",
       "      <td>70</td>\n",
       "      <td>31</td>\n",
       "      <td>0</td>\n",
       "      <td>30.4</td>\n",
       "      <td>0.315</td>\n",
       "      <td>23</td>\n",
       "      <td>0</td>\n",
       "    </tr>\n",
       "  </tbody>\n",
       "</table>\n",
       "<p>376 rows × 9 columns</p>\n",
       "</div>"
      ],
      "text/plain": [
       "     Pregnancies  Glucose  BloodPressure  SkinThickness  Insulin   BMI  \\\n",
       "0              6      148             72             35        0  33.6   \n",
       "1              1       85             66             29        0  26.6   \n",
       "2              8      183             64              0        0  23.3   \n",
       "5              5      116             74              0        0  25.6   \n",
       "7             10      115              0              0        0  35.3   \n",
       "..           ...      ...            ...            ...      ...   ...   \n",
       "761            9      170             74             31        0  44.0   \n",
       "762            9       89             62              0        0  22.5   \n",
       "764            2      122             70             27        0  36.8   \n",
       "766            1      126             60              0        0  30.1   \n",
       "767            1       93             70             31        0  30.4   \n",
       "\n",
       "     DiabetesPedigreeFunction  Age  Outcome  \n",
       "0                       0.627   50        1  \n",
       "1                       0.351   31        0  \n",
       "2                       0.672   32        1  \n",
       "5                       0.201   30        0  \n",
       "7                       0.134   29        0  \n",
       "..                        ...  ...      ...  \n",
       "761                     0.403   43        1  \n",
       "762                     0.142   33        0  \n",
       "764                     0.340   27        0  \n",
       "766                     0.349   47        1  \n",
       "767                     0.315   23        0  \n",
       "\n",
       "[376 rows x 9 columns]"
      ]
     },
     "execution_count": 8,
     "metadata": {},
     "output_type": "execute_result"
    }
   ],
   "source": [
    "## Subconjunto de regitros con valores mínimos equivalentes a 0.\n",
    "df.loc[(df['Glucose'] == 0) | (df['BloodPressure'] == 0) | (df['SkinThickness'] == 0) | (df['Insulin'] == 0) | (df['BMI'] == 0)]"
   ]
  },
  {
   "cell_type": "markdown",
   "id": "969a4d7e",
   "metadata": {},
   "source": [
    "Como se puede observar son varios registros que contienen al menos uno de estos valores en 0. Estos ceros podrían en realidad simbolizar valores ausentes que en lugar de registrarse como nulos, se registraron como 0. Sin embargo esto puede ser una complicación para el modelo que se genere, por lo que de momento se pasara a elimanar estos registros y únicamente trabajar con aquellos que verdaderamente estén completos. "
   ]
  },
  {
   "cell_type": "code",
   "execution_count": 9,
   "id": "b2bef86d",
   "metadata": {},
   "outputs": [
    {
     "data": {
      "text/plain": [
       "(392, 9)"
      ]
     },
     "execution_count": 9,
     "metadata": {},
     "output_type": "execute_result"
    }
   ],
   "source": [
    "## Nuevo conjunto de datos con el que se trabajará\n",
    "df = df[(df['BloodPressure'] > 0) & (df['Glucose'] > 0) & (df['SkinThickness'] > 0) & (df['Insulin'] > 0) & (df['BMI'] > 0)]\n",
    "df.shape"
   ]
  },
  {
   "cell_type": "markdown",
   "id": "f03c0e08",
   "metadata": {},
   "source": [
    "Por supuesto que esta decisión de no tomar en cuenta los registros con valores faltantes no es la mejor, ya que como se puede observar, es muchísima la información que se pierde. Sin embargo como el objetivo de este proyecto es únicamente evaluar el desempeño de una implementación, de momento se aplicará esta técnica.\n",
    "\n",
    "Si volvemos a aplicar el análisis descriptivo, observamos que ya no se tienen valores mínimos de 0, lo cual tiene sentido en el contexto del problema."
   ]
  },
  {
   "cell_type": "code",
   "execution_count": 10,
   "id": "c31e42d1",
   "metadata": {
    "scrolled": true
   },
   "outputs": [
    {
     "data": {
      "text/html": [
       "<div>\n",
       "<style scoped>\n",
       "    .dataframe tbody tr th:only-of-type {\n",
       "        vertical-align: middle;\n",
       "    }\n",
       "\n",
       "    .dataframe tbody tr th {\n",
       "        vertical-align: top;\n",
       "    }\n",
       "\n",
       "    .dataframe thead th {\n",
       "        text-align: right;\n",
       "    }\n",
       "</style>\n",
       "<table border=\"1\" class=\"dataframe\">\n",
       "  <thead>\n",
       "    <tr style=\"text-align: right;\">\n",
       "      <th></th>\n",
       "      <th>Pregnancies</th>\n",
       "      <th>Glucose</th>\n",
       "      <th>BloodPressure</th>\n",
       "      <th>SkinThickness</th>\n",
       "      <th>Insulin</th>\n",
       "      <th>BMI</th>\n",
       "      <th>DiabetesPedigreeFunction</th>\n",
       "      <th>Age</th>\n",
       "      <th>Outcome</th>\n",
       "    </tr>\n",
       "  </thead>\n",
       "  <tbody>\n",
       "    <tr>\n",
       "      <th>count</th>\n",
       "      <td>392.000000</td>\n",
       "      <td>392.000000</td>\n",
       "      <td>392.000000</td>\n",
       "      <td>392.000000</td>\n",
       "      <td>392.000000</td>\n",
       "      <td>392.000000</td>\n",
       "      <td>392.000000</td>\n",
       "      <td>392.000000</td>\n",
       "      <td>392.000000</td>\n",
       "    </tr>\n",
       "    <tr>\n",
       "      <th>mean</th>\n",
       "      <td>3.301020</td>\n",
       "      <td>122.627551</td>\n",
       "      <td>70.663265</td>\n",
       "      <td>29.145408</td>\n",
       "      <td>156.056122</td>\n",
       "      <td>33.086224</td>\n",
       "      <td>0.523046</td>\n",
       "      <td>30.864796</td>\n",
       "      <td>0.331633</td>\n",
       "    </tr>\n",
       "    <tr>\n",
       "      <th>std</th>\n",
       "      <td>3.211424</td>\n",
       "      <td>30.860781</td>\n",
       "      <td>12.496092</td>\n",
       "      <td>10.516424</td>\n",
       "      <td>118.841690</td>\n",
       "      <td>7.027659</td>\n",
       "      <td>0.345488</td>\n",
       "      <td>10.200777</td>\n",
       "      <td>0.471401</td>\n",
       "    </tr>\n",
       "    <tr>\n",
       "      <th>min</th>\n",
       "      <td>0.000000</td>\n",
       "      <td>56.000000</td>\n",
       "      <td>24.000000</td>\n",
       "      <td>7.000000</td>\n",
       "      <td>14.000000</td>\n",
       "      <td>18.200000</td>\n",
       "      <td>0.085000</td>\n",
       "      <td>21.000000</td>\n",
       "      <td>0.000000</td>\n",
       "    </tr>\n",
       "    <tr>\n",
       "      <th>25%</th>\n",
       "      <td>1.000000</td>\n",
       "      <td>99.000000</td>\n",
       "      <td>62.000000</td>\n",
       "      <td>21.000000</td>\n",
       "      <td>76.750000</td>\n",
       "      <td>28.400000</td>\n",
       "      <td>0.269750</td>\n",
       "      <td>23.000000</td>\n",
       "      <td>0.000000</td>\n",
       "    </tr>\n",
       "    <tr>\n",
       "      <th>50%</th>\n",
       "      <td>2.000000</td>\n",
       "      <td>119.000000</td>\n",
       "      <td>70.000000</td>\n",
       "      <td>29.000000</td>\n",
       "      <td>125.500000</td>\n",
       "      <td>33.200000</td>\n",
       "      <td>0.449500</td>\n",
       "      <td>27.000000</td>\n",
       "      <td>0.000000</td>\n",
       "    </tr>\n",
       "    <tr>\n",
       "      <th>75%</th>\n",
       "      <td>5.000000</td>\n",
       "      <td>143.000000</td>\n",
       "      <td>78.000000</td>\n",
       "      <td>37.000000</td>\n",
       "      <td>190.000000</td>\n",
       "      <td>37.100000</td>\n",
       "      <td>0.687000</td>\n",
       "      <td>36.000000</td>\n",
       "      <td>1.000000</td>\n",
       "    </tr>\n",
       "    <tr>\n",
       "      <th>max</th>\n",
       "      <td>17.000000</td>\n",
       "      <td>198.000000</td>\n",
       "      <td>110.000000</td>\n",
       "      <td>63.000000</td>\n",
       "      <td>846.000000</td>\n",
       "      <td>67.100000</td>\n",
       "      <td>2.420000</td>\n",
       "      <td>81.000000</td>\n",
       "      <td>1.000000</td>\n",
       "    </tr>\n",
       "  </tbody>\n",
       "</table>\n",
       "</div>"
      ],
      "text/plain": [
       "       Pregnancies     Glucose  BloodPressure  SkinThickness     Insulin  \\\n",
       "count   392.000000  392.000000     392.000000     392.000000  392.000000   \n",
       "mean      3.301020  122.627551      70.663265      29.145408  156.056122   \n",
       "std       3.211424   30.860781      12.496092      10.516424  118.841690   \n",
       "min       0.000000   56.000000      24.000000       7.000000   14.000000   \n",
       "25%       1.000000   99.000000      62.000000      21.000000   76.750000   \n",
       "50%       2.000000  119.000000      70.000000      29.000000  125.500000   \n",
       "75%       5.000000  143.000000      78.000000      37.000000  190.000000   \n",
       "max      17.000000  198.000000     110.000000      63.000000  846.000000   \n",
       "\n",
       "              BMI  DiabetesPedigreeFunction         Age     Outcome  \n",
       "count  392.000000                392.000000  392.000000  392.000000  \n",
       "mean    33.086224                  0.523046   30.864796    0.331633  \n",
       "std      7.027659                  0.345488   10.200777    0.471401  \n",
       "min     18.200000                  0.085000   21.000000    0.000000  \n",
       "25%     28.400000                  0.269750   23.000000    0.000000  \n",
       "50%     33.200000                  0.449500   27.000000    0.000000  \n",
       "75%     37.100000                  0.687000   36.000000    1.000000  \n",
       "max     67.100000                  2.420000   81.000000    1.000000  "
      ]
     },
     "execution_count": 10,
     "metadata": {},
     "output_type": "execute_result"
    }
   ],
   "source": [
    "df.describe()"
   ]
  },
  {
   "cell_type": "markdown",
   "id": "13990364",
   "metadata": {},
   "source": [
    "Sin embargo, del anterior análisis aún se pueden encontrar varios detalles como que el valor máximo de embarazos que tuvo una mujer fue de 17, o que el BMI de una persona sea de 67.1. Para esto, pasaremos a visualizar a través de algunas gráficas el comportamiento de las distintas variables."
   ]
  },
  {
   "cell_type": "code",
   "execution_count": 11,
   "id": "e8339e96",
   "metadata": {},
   "outputs": [
    {
     "data": {
      "image/png": "[encoded data removed]",
      "text/plain": [
       "<Figure size 1008x864 with 8 Axes>"
      ]
     },
     "metadata": {
      "needs_background": "light"
     },
     "output_type": "display_data"
    }
   ],
   "source": [
    "## Diagramas de caja y bigotes\n",
    "plt.figure(figsize=(14, 12))\n",
    "plt.subplot(4,2, 1)\n",
    "sns.set_theme(style='white')\n",
    "ax = sns.boxplot(x=df['Pregnancies'])\n",
    "#plt.title('Diagrama de caja Pregnancies')\n",
    "plt.grid()\n",
    "\n",
    "plt.subplot(4,2, 2)\n",
    "sns.set_theme(style='white')\n",
    "ax = sns.boxplot(x=df['Glucose'])\n",
    "#plt.title('Diagrama de caja Glucose')\n",
    "plt.grid()\n",
    "\n",
    "plt.subplot(4,2, 3)\n",
    "sns.set_theme(style='white')\n",
    "ax = sns.boxplot(x=df['BloodPressure'])\n",
    "#plt.title('Diagrama de caja Blood Pressure')\n",
    "plt.grid()\n",
    "\n",
    "plt.subplot(4,2, 4)\n",
    "sns.set_theme(style='white')\n",
    "ax = sns.boxplot(x=df['SkinThickness'])\n",
    "#plt.title('Diagrama de caja SkinThickness')\n",
    "plt.grid()\n",
    "\n",
    "plt.subplot(4,2, 5)\n",
    "sns.set_theme(style='white')\n",
    "ax = sns.boxplot(x=df['Insulin'])\n",
    "#plt.title('Diagrama de caja Insulin')\n",
    "plt.grid()\n",
    "\n",
    "plt.subplot(4,2, 6)\n",
    "sns.set_theme(style='white')\n",
    "ax = sns.boxplot(x=df['BMI'])\n",
    "#plt.title('Diagrama de caja BMI')\n",
    "plt.grid()\n",
    "\n",
    "plt.subplot(4,2, 7)\n",
    "sns.set_theme(style='white')\n",
    "ax = sns.boxplot(x=df['DiabetesPedigreeFunction'])\n",
    "#plt.title('Diagrama de caja DiabetesPedigreeFunction')\n",
    "plt.grid()\n",
    "\n",
    "plt.subplot(4,2, 8)\n",
    "sns.set_theme(style='white')\n",
    "ax = sns.boxplot(x=df['Age'])\n",
    "#plt.title('Diagrama de caja Age')\n",
    "plt.grid()"
   ]
  },
  {
   "cell_type": "markdown",
   "id": "bac94172",
   "metadata": {},
   "source": [
    "En los diagrama de caja anteriores se puede observar que se tienen varios valores atípicos en muchas de las variables, sobre todo en la variable de insulina. Estos valores también los podemos observar en los siguientes histogramas."
   ]
  },
  {
   "cell_type": "code",
   "execution_count": 12,
   "id": "e3f86e64",
   "metadata": {},
   "outputs": [
    {
     "data": {
      "image/png": "[encoded data removed]",
      "text/plain": [
       "<Figure size 432x288 with 9 Axes>"
      ]
     },
     "metadata": {},
     "output_type": "display_data"
    }
   ],
   "source": [
    "## Histogramas de frecuencia de las variables\n",
    "df.hist()\n",
    "plt.show()"
   ]
  },
  {
   "cell_type": "markdown",
   "id": "b242e875",
   "metadata": {},
   "source": [
    "Ya que se analizaron de forma muy, pero muy general los datos, se pasará a construir el Random Forest Classifier con ayuda de la librería `scikitlearn`."
   ]
  },
  {
   "cell_type": "markdown",
   "id": "5a731b6d",
   "metadata": {},
   "source": [
    "### Construcción de un modelo de ML. Random Forest Classifier\n",
    "\n",
    "#### Separación y evaluación del modelo con un conjunto de prueba y un conjunto de validación (Train/Test/Validation).\n",
    "Antes de construir el modelo se realizará una partición del conjunto de datos total en 2 diferentes sets. El primero se destinará al entrenamiento del modelo y se le conocerá como set de entrenamiento. Por otro lado, el segundo set estará destinado a evaluar el modelo realizando predicciones con datos que el modelo nunca antes había visto. De esta forma se logrará conocer el desempeño del modelo en un espacio alejado al del entrenamiento, es decir qué tan robusto, o sensible será. \n",
    "\n",
    "Para esto, se van a utilizar todas las variables de la base de datos como variables predictoras, exceptuando el 'Outcome', la cual contiene las observaciones de si una persona tiene diabetes o no. "
   ]
  },
  {
   "cell_type": "code",
   "execution_count": 13,
   "id": "3f92355e",
   "metadata": {},
   "outputs": [],
   "source": [
    "## Variables predictoras\n",
    "x = df[['Pregnancies', 'Glucose', 'BloodPressure', 'SkinThickness', \n",
    "        'Insulin', 'BMI', 'DiabetesPedigreeFunction', 'Age']]\n",
    "\n",
    "## Variable objetivo\n",
    "y = df['Outcome']"
   ]
  },
  {
   "cell_type": "code",
   "execution_count": 14,
   "id": "2a518154",
   "metadata": {},
   "outputs": [
    {
     "data": {
      "text/plain": [
       "((313, 8), (79, 8), (313,), (79,))"
      ]
     },
     "execution_count": 14,
     "metadata": {},
     "output_type": "execute_result"
    }
   ],
   "source": [
    "## Separación de la base de datos en un set de entrenamiento y evaluación\n",
    "X_train, x_test, Y_train, y_test = train_test_split(x, y, test_size = 0.2, random_state = 42)\n",
    "X_train.shape, x_test.shape, Y_train.shape, y_test.shape"
   ]
  },
  {
   "cell_type": "markdown",
   "id": "37c7c5c6",
   "metadata": {},
   "source": [
    "Como se observa en el pedazo de código anterior, se está realizando la partición de la base de datos en 2. El 80% de los datos se destinarán a entrenar el modelo, mientras que el otro 20% a su evaluación. Cabe mencionar que se está agregando un `random_state` con el objetivo de realizar todo este proyecto replicable. \n",
    "\n",
    "Una vez separada en conjuntos la base de datos, se pasa a implementar el modelo de machine learning de `RandomForestClassifier` sin la modificación de sus hiperparámetros, es decir se aplicará el modelo por default que viene. "
   ]
  },
  {
   "cell_type": "code",
   "execution_count": 15,
   "id": "8e49535b",
   "metadata": {},
   "outputs": [
    {
     "data": {
      "text/plain": [
       "RandomForestClassifier()"
      ]
     },
     "execution_count": 15,
     "metadata": {},
     "output_type": "execute_result"
    }
   ],
   "source": [
    "# Implementación del random forest classifier con los hiperparámetros default\n",
    "rfc = RandomForestClassifier()\n",
    "rfc.fit(X_train, Y_train) ## Entrenamiento del modelo"
   ]
  },
  {
   "cell_type": "markdown",
   "id": "93294b92",
   "metadata": {},
   "source": [
    "Una vez elaborado el entrenamiento, se pasará a realizar predicciones. Para estas primeras predicciones se utilizará el mismo conjunto con el que se entrenó el modelo, ya que estó ayudará a ver si realmente el modelo es capaz de predecir de forma correcta los registros. Para evaluar qué tan bien lo hizo el modelo, se obtienen las siguientes métricas de evaluación del modelo como el MSE, MAE, Accuracy y matriz de confusión. "
   ]
  },
  {
   "cell_type": "code",
   "execution_count": 16,
   "id": "787c99a2",
   "metadata": {},
   "outputs": [],
   "source": [
    "## Se realizan las predicciones con el set de entrenamiento\n",
    "train_results = rfc.predict(X_train)"
   ]
  },
  {
   "cell_type": "code",
   "execution_count": 17,
   "id": "605a65b9",
   "metadata": {},
   "outputs": [
    {
     "name": "stdout",
     "output_type": "stream",
     "text": [
      "Resultados de las predicciones con el set de entrenamiento:\n",
      "MSE con el conjunto de entrenamiento: 0.0\n",
      "MAE con el conjunto de entrenamiento: 0.0\n",
      "Accuracy con el conjunto de prueba: 1.0\n",
      "[[210   0]\n",
      " [  0 103]]\n"
     ]
    }
   ],
   "source": [
    "## Se obtienen algunas medidas de evaluación como el mse, mae, la exactitud y la matriz de confusión\n",
    "mse = mean_squared_error(train_results, Y_train)\n",
    "mae = mean_absolute_error(train_results, Y_train)\n",
    "\n",
    "print('Resultados de las predicciones con el set de entrenamiento:')\n",
    "print('MSE con el conjunto de entrenamiento:', mse)\n",
    "print('MAE con el conjunto de entrenamiento:', mae)\n",
    "print(\"Accuracy con el conjunto de prueba:\", accuracy_score(Y_train, train_results)) ## Indica que tanto el modelo clasificó correctamente\n",
    "print(confusion_matrix(train_results, Y_train)) # Se muestra la matriz de confusión"
   ]
  },
  {
   "cell_type": "code",
   "execution_count": 18,
   "id": "a63e4aaa",
   "metadata": {},
   "outputs": [
    {
     "data": {
      "text/plain": [
       "<AxesSubplot:>"
      ]
     },
     "execution_count": 18,
     "metadata": {},
     "output_type": "execute_result"
    },
    {
     "data": {
      "image/png": "[encoded data removed]",
      "text/plain": [
       "<Figure size 432x288 with 1 Axes>"
      ]
     },
     "metadata": {},
     "output_type": "display_data"
    }
   ],
   "source": [
    "## Otras métricas de evaluación\n",
    "\n",
    "con_mat = confusion_matrix(train_results, Y_train)\n",
    "tp = con_mat[0][0]\n",
    "tn = con_mat[1][1]\n",
    "fp = con_mat[1][0]\n",
    "fn = con_mat[0][1]\n",
    "\n",
    "accuracy = (tp+tn)/(tp+tn+fp+fn)\n",
    "precision = tp/(tp+fp)\n",
    "recall= tp/(tp+fn)\n",
    "specificity = tn/(tn+fp)\n",
    "f1_score = 2*((recall*precision)/(recall+precision))\n",
    "\n",
    "metrics = [accuracy, precision, recall, specificity, f1_score]\n",
    "labels = ['Accuracy', 'Precision', 'Recall', 'Specificity', 'F1-Score']\n",
    "\n",
    "sns.barplot(x = labels, y = metrics)"
   ]
  },
  {
   "cell_type": "markdown",
   "id": "ecf18c05",
   "metadata": {},
   "source": [
    "Cómo se puede observar, el desempeño del modelo, según los resultados de la métricas de evaluación, es extremadamente bueno, ya que tanto el Mean Squared Error, como el Mean Absolute Error tienen un valor de 0. De igual forma, el Acurracy, el cual indica qué tanto el modelo clasifica correctamente la clase, tiene un valor de 1, lo cual simboliza que clasifica correctamente el 100% de la veces. Esto último también se refleja en la matriz de confusión, en donde se puede observar que todas las predicciones caen en los campos de verdaderos positivos y verdaderos negativos. Es decir que no hay ningún registro catalogado como falso positivo ni como falso negativo.\n",
    "\n",
    "Sin duda, el modelo parece ser genial, pues con una exactitud del 100% clasifica correctamente un registro. Sin embargo, ¿qué pasa si realizamos las predicciones en el cnjunto de evaluación? a continuación se realizan las predicciones para el conjunto de prueba."
   ]
  },
  {
   "cell_type": "code",
   "execution_count": 19,
   "id": "4bf10cda",
   "metadata": {},
   "outputs": [],
   "source": [
    "## Con los datos de prueba\n",
    "test_results = rfc.predict(x_test)"
   ]
  },
  {
   "cell_type": "code",
   "execution_count": 20,
   "id": "d2c4713f",
   "metadata": {},
   "outputs": [
    {
     "name": "stdout",
     "output_type": "stream",
     "text": [
      "Resultados de las predicciones con el set de prueba:\n",
      "MSE con el conjunto de prueba: 0.25316455696202533\n",
      "MAE con el conjunto de prueba: 0.25316455696202533\n",
      "Accuracy con el conjunto de prueba: 0.7468354430379747\n",
      "[[45 13]\n",
      " [ 7 14]]\n"
     ]
    }
   ],
   "source": [
    "## Se obtienen algunas medidas de evaluación como el mse, mae, la exactitud y la matriz de confusión\n",
    "mse = mean_squared_error(test_results, y_test)\n",
    "mae = mean_absolute_error(test_results, y_test)\n",
    "\n",
    "print('Resultados de las predicciones con el set de prueba:')\n",
    "print('MSE con el conjunto de prueba:', mse)\n",
    "print('MAE con el conjunto de prueba:', mae)\n",
    "print(\"Accuracy con el conjunto de prueba:\", accuracy_score(y_test, test_results)) ## Indica que tanto el modelo clasificó correctamente\n",
    "print(confusion_matrix(test_results, y_test)) # Se muestra la matriz de confusión"
   ]
  },
  {
   "cell_type": "code",
   "execution_count": 21,
   "id": "8551e063",
   "metadata": {},
   "outputs": [
    {
     "data": {
      "text/plain": [
       "<AxesSubplot:>"
      ]
     },
     "execution_count": 21,
     "metadata": {},
     "output_type": "execute_result"
    },
    {
     "data": {
      "image/png": "[encoded data removed]",
      "text/plain": [
       "<Figure size 432x288 with 1 Axes>"
      ]
     },
     "metadata": {},
     "output_type": "display_data"
    }
   ],
   "source": [
    "## Otras métricas de evaluación\n",
    "\n",
    "con_mat = confusion_matrix(test_results, y_test)\n",
    "tp = con_mat[0][0]\n",
    "tn = con_mat[1][1]\n",
    "fp = con_mat[1][0]\n",
    "fn = con_mat[0][1]\n",
    "\n",
    "accuracy = (tp+tn)/(tp+tn+fp+fn)\n",
    "precision = tp/(tp+fp)\n",
    "recall= tp/(tp+fn)\n",
    "specificity = tn/(tn+fp)\n",
    "f1_score = 2*((recall*precision)/(recall+precision))\n",
    "\n",
    "metrics = [accuracy, precision, recall, specificity, f1_score]\n",
    "labels = ['Accuracy', 'Precision', 'Recall', 'Specificity', 'F1-Score']\n",
    "\n",
    "sns.barplot(x = labels, y = metrics)"
   ]
  },
  {
   "cell_type": "markdown",
   "id": "5bbfe252",
   "metadata": {},
   "source": [
    "Como se puede observar, aqui cambia mucho las cosas, pero iremos desglosando el desempeño parte por parte. Dos de los factores que son muy importantes evaluar del modelo, son su grado de sesgo y de varianza. Tanto el grado de sesgo, como el grado de varianza nos ayudan a comprender si existe un sobreajuste o un subajuste en el entrenamiento de los datos. Esto se debe a que nuestro error del modelo lo podemos interpretar como la suma del sesgo, la varianza y un error irreducible. \n",
    "\n",
    "#### Diagnóstico y explicación el grado de bias o sesgo: bajo medio alto\n",
    "El sesgo se define como la distancia entre el valor real y el valor esperado del modelo. Por lo tanto, cuando tengamos un sesgo alto es sinónimo de tener un subajuste en los datos. Esto es debido a que la distancia entre el valor real y el esperado es muy grande. Por lo tanto, quiere decir que en realidad no le estamos 'atinando' correctamente a lo que queremos predecir. \n",
    "\n",
    "Como en este caso se está utilizando más de una variable predictora, no se puede visualizar el ajuste de los puntos e interpretar de una forma gráfica el sesgo. Por lo tanto, no basamos en otras métricas de evaluación como el error. En este caso, tanto en las predicciones con los datos de entrenamiento como en los de prueba, observamos que tanto el Mean Squared Error como el Mean Absolute Error son muy pequeños (0.227), pues están cercanos al 0. Por lo tanto, podemos decir que le estamos atinando a donde queremos. Por lo tanto, concluimos que el grado de de sesgo es bajo y por lo tanto no tenemos un subajuste en los datos. \n",
    "\n",
    "#### Diagnóstico y explicación el grado de varianza: bajo medio alto\n",
    "\n",
    "La varianza se define como la distancia entre el valor esperado del modelo, y el valor entregado por el modelo. Al diferencia del sesgo, la varianza alta se puede traducir en tener un sobreajuste o no en nuestro modelo. De igual forma, este grado de variación se puede medir a través del error, el cual se descompone en el sesgo, la varianza y un error irreducible. \n",
    "\n",
    "En las predicciones del modelo con los datos de entrenamiento, se observa que se obtuvo un error de prácticamente cero, por lo que el grado de varianza es bajo y no se tiene un sobreajuste. Sin embargo, la cosa cambia cuando se evalúa el modelo con los datos de prueba, pues aqui vemos que los errore aumentan y la métrica de accuracy disminuye su valor. Esto indica que hay un grado de varianza alta, pues hay un sobreajuste en el modelo, pues es muy bueno para predecir cuando se le ingresan registros con los que entrenó, sin embargo, cuando se trata de nuevos registros, tiende a fallar.\n",
    "\n",
    "#### Diagnóstico y explicación el nivel de ajuste del modelo: underfitt fitt overfitt\n",
    "Finalmente, como se estuvo hablando en los puntos anteriores, el sesgo y varianza son sinónimos de subajuste y sobreajuste respectivamente. En este caso se tiene un modelo sobreajustado, dado a que el comportamiento de las métricas de evaluación cambia bastante cuando se trata del conjunto de prueba, o del conjunto de entrenamiento. Un modelo no sobreajustado no sería perfecto prediciendose a si mismo como lo es en este caso. \n",
    "\n",
    "En conclusión, el modelo contruido es muy malo, pues cuenta con un sobreajuste de datos, por lo que es pésimo para predecir si un paciente padece de diabetes si es un nuevo registro, o contiene combinaciones de valores de los factores que desconoce.\n"
   ]
  },
  {
   "cell_type": "markdown",
   "id": "e89943a5",
   "metadata": {},
   "source": [
    "### Mejorando el modelo\n",
    "Finalmente se pasará a mejorar el desempeño del modelo anteriormente construido. Para esto se realizará un ajuste en los hiperparámetros del modelo, pues recordemos que cada modelo cuenta con distintos parámetros que lo ajustan. En este caso se aumentará el número de árboles creados, además de reducir la profundidad de los distintos árboles con el objetivo de evitar un sobreajuste en los datos. De igual forma se utiliza un random state para hacer todo este proceso replicable. \n",
    "\n",
    "Sin embargo, otra de las técnicas que se puede aplicar para mejorar el modelo es el pre procesamiento de los datos, es decir reducir variables, o quedarnos con aquellas que aportan más a nuestro modelo. Para ello, podemos construir una matriz de correlación como la siguiente:"
   ]
  },
  {
   "cell_type": "code",
   "execution_count": 22,
   "id": "8771fbfa",
   "metadata": {},
   "outputs": [
    {
     "data": {
      "image/png": "[encoded data removed]",
      "text/plain": [
       "<Figure size 504x504 with 2 Axes>"
      ]
     },
     "metadata": {},
     "output_type": "display_data"
    }
   ],
   "source": [
    "## Matriz de correlación\n",
    "plt.figure(figsize=(7,7))\n",
    "sns.heatmap(df.corr(), cmap=\"RdYlBu\", \n",
    "    annot=True, square=True,\n",
    "    vmin=-1, vmax=1, fmt=\"+.3f\")\n",
    "plt.title(\"Matriz de correlación para la base de datos de diabetes\")\n",
    "plt.show()"
   ]
  },
  {
   "cell_type": "markdown",
   "id": "9e956676",
   "metadata": {},
   "source": [
    "De la anterior matriz de correlación se puede observar una mediana relación entre la variable Outcome y la variable glucosa. Las demás varibles diria que tienen una relación media baja con la variable objetivo. Por lo tanto únicamente nos quedaremos con aquellas que son mayores a 0.25."
   ]
  },
  {
   "cell_type": "code",
   "execution_count": 23,
   "id": "9a46f4c6",
   "metadata": {},
   "outputs": [],
   "source": [
    "x = df[['Pregnancies', 'Glucose', 'SkinThickness', \n",
    "        'Insulin', 'BMI', 'Age']]\n",
    "\n",
    "y = df['Outcome']"
   ]
  },
  {
   "cell_type": "code",
   "execution_count": 24,
   "id": "083d4f87",
   "metadata": {},
   "outputs": [
    {
     "data": {
      "text/plain": [
       "RandomForestClassifier(max_depth=5, n_estimators=5000, random_state=42)"
      ]
     },
     "execution_count": 24,
     "metadata": {},
     "output_type": "execute_result"
    }
   ],
   "source": [
    "## Modificación de los hiperparámetros del modelo con el objetivo de mejorar el modelo\n",
    "rfc = RandomForestClassifier(n_estimators = 5000, max_depth = 5, criterion = 'gini', random_state = 42)\n",
    "rfc.fit(X_train, Y_train) ## Entrenamiento del modelo"
   ]
  },
  {
   "cell_type": "code",
   "execution_count": 25,
   "id": "aab4bbf4",
   "metadata": {},
   "outputs": [],
   "source": [
    "## Se realizan las predicciones en el conjunto de entrenamiento\n",
    "train_results = rfc.predict(X_train)"
   ]
  },
  {
   "cell_type": "code",
   "execution_count": 26,
   "id": "77ef5570",
   "metadata": {},
   "outputs": [
    {
     "name": "stdout",
     "output_type": "stream",
     "text": [
      "Resultados de las predicciones con el set de entrenamiento:\n",
      "MSE con el conjunto de entrenamiento: 0.0926517571884984\n",
      "MAE con el conjunto de entrenamiento: 0.0926517571884984\n",
      "Accuracy con el conjunto de prueba: 0.9073482428115016\n",
      "[[201  20]\n",
      " [  9  83]]\n"
     ]
    }
   ],
   "source": [
    "## Se obtienen algunas de las medidas de evaluación\n",
    "mse = mean_squared_error(train_results, Y_train)\n",
    "mae = mean_absolute_error(train_results, Y_train)\n",
    "\n",
    "print('Resultados de las predicciones con el set de entrenamiento:')\n",
    "print('MSE con el conjunto de entrenamiento:', mse)\n",
    "print('MAE con el conjunto de entrenamiento:', mae)\n",
    "print(\"Accuracy con el conjunto de prueba:\", accuracy_score(Y_train, train_results)) ## Indica que tanto el modelo clasificó correctamente\n",
    "print(confusion_matrix(train_results, Y_train)) # Se muestra la matriz de confusión"
   ]
  },
  {
   "cell_type": "markdown",
   "id": "9ccd1c36",
   "metadata": {},
   "source": [
    "Desde este punto podemos ver la mejora del modelo con respecto al anterior, ya que al predecir con los valores de entrenamiento se observa que no se tiene un modelo perfecto, es decir que muy posiblemente no existe un sobreajuste, sin embargo, pasaremos a evaluar cómo se desempeña con las siguientes métricas:"
   ]
  },
  {
   "cell_type": "code",
   "execution_count": 27,
   "id": "ae35567c",
   "metadata": {},
   "outputs": [
    {
     "data": {
      "text/plain": [
       "<AxesSubplot:>"
      ]
     },
     "execution_count": 27,
     "metadata": {},
     "output_type": "execute_result"
    },
    {
     "data": {
      "image/png": "[encoded data removed]",
      "text/plain": [
       "<Figure size 432x288 with 1 Axes>"
      ]
     },
     "metadata": {},
     "output_type": "display_data"
    }
   ],
   "source": [
    "## Otras métricas de evaluación\n",
    "\n",
    "con_mat = confusion_matrix(train_results, Y_train)\n",
    "tp = con_mat[0][0]\n",
    "tn = con_mat[1][1]\n",
    "fp = con_mat[1][0]\n",
    "fn = con_mat[0][1]\n",
    "\n",
    "accuracy = (tp+tn)/(tp+tn+fp+fn)\n",
    "precision = tp/(tp+fp)\n",
    "recall= tp/(tp+fn)\n",
    "specificity = tn/(tn+fp)\n",
    "f1_score = 2*((recall*precision)/(recall+precision))\n",
    "\n",
    "metrics = [accuracy, precision, recall, specificity, f1_score]\n",
    "labels = ['Accuracy', 'Precision', 'Recall', 'Specificity', 'F1-Score']\n",
    "\n",
    "sns.barplot(x = labels, y = metrics)"
   ]
  },
  {
   "cell_type": "code",
   "execution_count": 28,
   "id": "a170e008",
   "metadata": {},
   "outputs": [],
   "source": [
    "## Con los datos de prueba\n",
    "test_results = rfc.predict(x_test)"
   ]
  },
  {
   "cell_type": "code",
   "execution_count": 29,
   "id": "ac6fe0b2",
   "metadata": {},
   "outputs": [
    {
     "name": "stdout",
     "output_type": "stream",
     "text": [
      "Resultados de las predicciones con el set de prueba:\n",
      "MSE con el conjunto de prueba: 0.24050632911392406\n",
      "MAE con el conjunto de prueba: 0.24050632911392406\n",
      "Accuracy con el conjunto de prueba: 0.759493670886076\n",
      "[[45 12]\n",
      " [ 7 15]]\n"
     ]
    }
   ],
   "source": [
    "mse = mean_squared_error(test_results, y_test)\n",
    "mae = mean_absolute_error(test_results, y_test)\n",
    "r2 = r2_score(test_results, y_test)\n",
    "\n",
    "print('Resultados de las predicciones con el set de prueba:')\n",
    "print('MSE con el conjunto de prueba:', mse)\n",
    "print('MAE con el conjunto de prueba:', mae)\n",
    "print(\"Accuracy con el conjunto de prueba:\", accuracy_score(y_test, test_results)) ## Indica que tanto el modelo clasificó correctamente\n",
    "print(confusion_matrix(test_results, y_test)) # Se muestra la matriz de confusión"
   ]
  },
  {
   "cell_type": "code",
   "execution_count": 30,
   "id": "4d4c9d41",
   "metadata": {},
   "outputs": [
    {
     "data": {
      "text/plain": [
       "<AxesSubplot:>"
      ]
     },
     "execution_count": 30,
     "metadata": {},
     "output_type": "execute_result"
    },
    {
     "data": {
      "image/png": "[encoded data removed]",
      "text/plain": [
       "<Figure size 432x288 with 1 Axes>"
      ]
     },
     "metadata": {},
     "output_type": "display_data"
    }
   ],
   "source": [
    "## Otras métricas de evaluación\n",
    "\n",
    "con_mat = confusion_matrix(test_results, y_test)\n",
    "tp = con_mat[0][0]\n",
    "tn = con_mat[1][1]\n",
    "fp = con_mat[1][0]\n",
    "fn = con_mat[0][1]\n",
    "\n",
    "accuracy = (tp+tn)/(tp+tn+fp+fn)\n",
    "precision = tp/(tp+fp)\n",
    "recall= tp/(tp+fn)\n",
    "specificity = tn/(tn+fp)\n",
    "f1_score = 2*((recall*precision)/(recall+precision))\n",
    "\n",
    "metrics = [accuracy, precision, recall, specificity, f1_score]\n",
    "labels = ['Accuracy', 'Precision', 'Recall', 'Specificity', 'F1-Score']\n",
    "\n",
    "sns.barplot(x = labels, y = metrics)"
   ]
  },
  {
   "cell_type": "markdown",
   "id": "0d573756",
   "metadata": {},
   "source": [
    "Finalmente, con las predicciones al set de pruebas podemos decir que el modelo mejoró, muy poco, pero mejoró con respecto al anteriormente creado con los hiperparámetros pre establecidos. Esto es debido a que se crearon muchos más árboles de decisión, por lo que el entrenamiento se efectúo de una mucho mejor forma. De igual forma, al reducir la profundidad de los árboles creados, se evita el sobreajuste de los datos, y por lo tanto hace al modelo más robusto y tiene un porcentaje más alto de predicicón de la clase. \n",
    "\n",
    "Claro esta que este no es el mejor modelo que se puede implementar, pues se debe de indagar más combinaciones posibles de hiperparámetros, e inclusive pre-procesar más los datos utilizados, pues estos pueden estandarizarse, o transofrmarse para así tratar de mejor del desempeño del modelo creado. "
   ]
  }
 ],
 "metadata": {
  "kernelspec": {
   "display_name": "Python 3",
   "language": "python",
   "name": "python3"
  },
  "language_info": {
   "codemirror_mode": {
    "name": "ipython",
    "version": 3
   },
   "file_extension": ".py",
   "mimetype": "text/x-python",
   "name": "python",
   "nbconvert_exporter": "python",
   "pygments_lexer": "ipython3",
   "version": "3.8.8"
  }
 },
 "nbformat": 4,
 "nbformat_minor": 5
}
